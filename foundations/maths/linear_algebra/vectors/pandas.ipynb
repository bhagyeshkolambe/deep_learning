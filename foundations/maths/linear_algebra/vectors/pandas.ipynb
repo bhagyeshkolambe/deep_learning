{
 "cells": [
  {
   "cell_type": "code",
   "execution_count": 3,
   "id": "8bcc5ab3",
   "metadata": {},
   "outputs": [
    {
     "name": "stdout",
     "output_type": "stream",
     "text": [
      "Vector Addition: [4, 6]\n",
      "Scalar Multiplication: [6, 8]\n",
      "Dot Product: 11\n",
      "Magnitude: 5.00\n",
      "Normalized Vector: [0.6, 0.8]\n"
     ]
    }
   ],
   "source": [
    "import pandas as pd\n",
    "import numpy as np\n",
    "\n",
    "# Sample vectors represented as Pandas Series\n",
    "vector_a = pd.Series([3, 4])\n",
    "vector_b = pd.Series([1, 2])\n",
    "\n",
    "def vector_addition(v1, v2):\n",
    "    return v1 + v2\n",
    "\n",
    "def scalar_multiplication(v, scalar):\n",
    "    return v * scalar\n",
    "\n",
    "def dot_product(v1, v2):\n",
    "    # Assuming column vectors\n",
    "    if isinstance(v1, pd.Series) and isinstance(v2, pd.Series):\n",
    "        return v1.dot(v2)\n",
    "    else:\n",
    "        return np.dot(v1, v2)\n",
    "\n",
    "def magnitude(v):\n",
    "    squared_sum = (v ** 2).sum()\n",
    "    return np.sqrt(squared_sum)\n",
    "\n",
    "def normalize_vector(v):\n",
    "    mag = magnitude(v)\n",
    "    if mag == 0:\n",
    "        return v\n",
    "    return v / mag\n",
    "\n",
    "# Example usage\n",
    "addition_result = vector_addition(vector_a, vector_b)\n",
    "scalar_mult_result = scalar_multiplication(vector_a, 2)\n",
    "dot_product_result = dot_product(vector_a, vector_b)\n",
    "mag_result = magnitude(vector_a)\n",
    "normalized_vector = normalize_vector(vector_a)\n",
    "\n",
    "print(\"Vector Addition:\", addition_result.to_list())\n",
    "print(\"Scalar Multiplication:\", scalar_mult_result.to_list())\n",
    "print(\"Dot Product:\", dot_product_result)\n",
    "print(f\"Magnitude: {mag_result:.2f}\")\n",
    "print(\"Normalized Vector:\", normalized_vector.to_list()) "
   ]
  }
 ],
 "metadata": {
  "kernelspec": {
   "display_name": "venv",
   "language": "python",
   "name": "python3"
  },
  "language_info": {
   "codemirror_mode": {
    "name": "ipython",
    "version": 3
   },
   "file_extension": ".py",
   "mimetype": "text/x-python",
   "name": "python",
   "nbconvert_exporter": "python",
   "pygments_lexer": "ipython3",
   "version": "3.12.10"
  }
 },
 "nbformat": 4,
 "nbformat_minor": 5
}
