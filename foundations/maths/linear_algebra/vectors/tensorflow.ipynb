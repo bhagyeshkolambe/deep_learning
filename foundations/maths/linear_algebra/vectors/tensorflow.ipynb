{
 "cells": [
  {
   "cell_type": "code",
   "execution_count": null,
   "id": "e5679a45",
   "metadata": {},
   "outputs": [
    {
     "name": "stdout",
     "output_type": "stream",
     "text": [
      "Vector Addition: [4. 6.]\n",
      "Scalar Multiplication: [6. 8.]\n",
      "Scalar Multiplication: [6. 8.]\n",
      "Division: [3. 2.]\n",
      "Dot Product: 11.0\n",
      "Magnitude: 5.00\n",
      "Normalized Vector: tf.Tensor([0.6 0.8], shape=(2,), dtype=float32)\n"
     ]
    }
   ],
   "source": [
    "import tensorflow as tf\n",
    "\n",
    "def vector_addition(v1, v2):\n",
    "    return tf.add(v1, v2)\n",
    "\n",
    "def scalar_multiplication(vector, scalar):\n",
    "    return tf.multiply(scalar, vector)\n",
    "\n",
    "def dot_product(v1, v2):\n",
    "    return tf.reduce_sum(tf.multiply(v1, v2))\n",
    "\n",
    "def magnitude(v):\n",
    "    squared = tf.square(v)\n",
    "    sum_squares = tf.reduce_sum(squared)\n",
    "    return tf.sqrt(sum_squares)\n",
    "\n",
    "def normalize_vector(v):\n",
    "    mag = magnitude(v)\n",
    "    if tf.equal(mag, 0.0):\n",
    "        return v\n",
    "    return tf.divide(v, mag)\n",
    "\n",
    "# Example usage (TensorFlow Tensors)\n",
    "vector_a = tf.constant([3.0, 4.0])\n",
    "vector_b = tf.constant([1.0, 2.0])\n",
    "\n",
    "addition_result = vector_addition(vector_a, vector_b)\n",
    "scalar_mult_result = scalar_multiplication(vector_a, 2.0)\n",
    "divided_vector = tf.truediv(vector_a, vector_b)\n",
    "dot_product_result = dot_product(vector_a, vector_b)\n",
    "mag_result = magnitude(vector_a)\n",
    "normalized_vector = normalize_vector(vector_a)\n",
    "\n",
    "print(\"Vector Addition:\", addition_result.numpy())\n",
    "print(\"Scalar Multiplication:\", scalar_mult_result.numpy())\n",
    "print(\"Scalar Multiplication:\", scalar_mult_result.numpy())\n",
    "print(\"Elementwise Division:\", divided_vector.numpy())\n",
    "print(\"Dot Product:\", dot_product_result.numpy())\n",
    "print(f\"Magnitude: {mag_result.numpy():.2f}\")\n",
    "print(\"Normalized Vector:\", normalized_vector)"
   ]
  },
  {
   "cell_type": "code",
   "execution_count": 9,
   "id": "706d9151",
   "metadata": {},
   "outputs": [
    {
     "name": "stdout",
     "output_type": "stream",
     "text": [
      "Angle (radians): 2.78\n",
      "Projection Vector: [1.2830188 4.490566 ]\n"
     ]
    }
   ],
   "source": [
    "import tensorflow as tf\n",
    "\n",
    "def angle_between_vectors(v1, v2):\n",
    "    \"\"\"Calculate the angle between two vectors in radians.\"\"\"\n",
    "    dot_product_value = tf.tensordot(v1, v2, axes=1)\n",
    "    magnitude_v1 = magnitude(v1)\n",
    "    magnitude_v2 = magnitude(v2)\n",
    "    cos_theta = dot_product_value / (magnitude_v1 * magnitude_v2)\n",
    "    return tf.acos(tf.clip_by_value(cos_theta, -1.0, 1.0))\n",
    "\n",
    "def projection_of_vector_on_to_another(v, onto):\n",
    "    \"\"\"Calculate the projection of vector v onto another vector onto.\"\"\"\n",
    "    if onto.shape != v.shape:\n",
    "        raise ValueError(\"Vectors must have the same shape.\")\n",
    "    dot_product_value = tf.tensordot(v, onto, axes=1)\n",
    "    magnitude_onto_squared = tf.reduce_sum(tf.square(onto))\n",
    "    return (dot_product_value / magnitude_onto_squared) * onto\n",
    "\n",
    "# Example usage\n",
    "vector_a = tf.constant([3.0, 4.0])\n",
    "vector_b = tf.constant([-2.0, -7.0])\n",
    "\n",
    "angle_result = angle_between_vectors(vector_a, vector_b)\n",
    "projection_result = projection_of_vector_on_to_another(vector_a, vector_b)\n",
    "\n",
    "print(f\"Angle (radians): {angle_result.numpy():.2f}\")\n",
    "print(\"Projection Vector:\", projection_result.numpy())"
   ]
  },
  {
   "cell_type": "code",
   "execution_count": null,
   "id": "ce346ec1",
   "metadata": {},
   "outputs": [
    {
     "name": "stdout",
     "output_type": "stream",
     "text": [
      "hello\n"
     ]
    }
   ],
   "source": []
  },
  {
   "cell_type": "code",
   "execution_count": null,
   "id": "b8fd8182",
   "metadata": {},
   "outputs": [],
   "source": []
  }
 ],
 "metadata": {
  "kernelspec": {
   "display_name": "venv",
   "language": "python",
   "name": "python3"
  },
  "language_info": {
   "codemirror_mode": {
    "name": "ipython",
    "version": 3
   },
   "file_extension": ".py",
   "mimetype": "text/x-python",
   "name": "python",
   "nbconvert_exporter": "python",
   "pygments_lexer": "ipython3",
   "version": "3.12.10"
  }
 },
 "nbformat": 4,
 "nbformat_minor": 5
}
