{
 "cells": [
  {
   "cell_type": "code",
   "execution_count": 2,
   "id": "43e33da4",
   "metadata": {},
   "outputs": [
    {
     "name": "stdout",
     "output_type": "stream",
     "text": [
      "[1 2 3]\n",
      "[[0. 0.]\n",
      " [0. 0.]\n",
      " [0. 0.]]\n",
      "Addition: [5 7 9]\n",
      "Subtraction: [-3 -3 -3]\n",
      "Scalar Multiplication: [2 4 6]\n",
      "Dot Product: 32\n",
      "Cross Product: [-3  6 -3]\n",
      "Norm (Magnitude): 5.0\n",
      "Normalized Vector: [0.6 0.8]\n",
      "Flattened list: [1, 2, 3, 4, 5, 6, 7, 8]\n"
     ]
    }
   ],
   "source": [
    "import numpy as np\n",
    "\n",
    "# Create a 1D array (vector)\n",
    "vector = np.array([1, 2, 3])\n",
    "print(vector)\n",
    "\n",
    "# Create a 2D array of zeros\n",
    "zero_vector = np.zeros((3,2))\n",
    "print(zero_vector)\n",
    "\n",
    "# Define two vectors\n",
    "vector_a = np.array([1, 2, 3])\n",
    "vector_b = np.array([4, 5, 6])\n",
    "\n",
    "# Addition\n",
    "addition_result = vector_a + vector_b\n",
    "print(\"Addition:\", addition_result)\n",
    "\n",
    "# Subtraction\n",
    "subtraction_result = vector_a - vector_b\n",
    "print(\"Subtraction:\", subtraction_result)\n",
    "\n",
    "# Scalar Multiplication\n",
    "scalar_multiplication_result = 2 * vector_a\n",
    "print(\"Scalar Multiplication:\", scalar_multiplication_result)\n",
    "\n",
    "# Dot product\n",
    "dot_product_result = np.dot(vector_a, vector_b)\n",
    "print(\"Dot Product:\", dot_product_result)\n",
    "\n",
    "# Cross product\n",
    "cross_product_result = np.cross(vector_a, vector_b)\n",
    "print(\"Cross Product:\", cross_product_result)\n",
    "\n",
    "# Define a vector\n",
    "vector_g = np.array([3, 4])\n",
    "\n",
    "# Calculate the norm (magnitude)\n",
    "norm_result = np.linalg.norm(vector_g)\n",
    "print(\"Norm (Magnitude):\", norm_result)\n",
    "\n",
    "# Normalize the vector\n",
    "normalized_vector = vector_g / np.linalg.norm(vector_g)\n",
    "print(\"Normalized Vector:\", normalized_vector)\n",
    "\n",
    "# Sample 3D array\n",
    "sample_3d_array = np.array([\n",
    "    [[1, 2], [3, 4]],\n",
    "    [[5, 6], [7, 8]]\n",
    "])\n",
    "\n",
    "# Using the functions\n",
    "flattened_list = sample_3d_array.flatten().tolist()\n",
    "\n",
    "print(\"Flattened list:\", flattened_list)"
   ]
  }
 ],
 "metadata": {
  "kernelspec": {
   "display_name": "venv",
   "language": "python",
   "name": "python3"
  },
  "language_info": {
   "codemirror_mode": {
    "name": "ipython",
    "version": 3
   },
   "file_extension": ".py",
   "mimetype": "text/x-python",
   "name": "python",
   "nbconvert_exporter": "python",
   "pygments_lexer": "ipython3",
   "version": "3.12.10"
  }
 },
 "nbformat": 4,
 "nbformat_minor": 5
}
