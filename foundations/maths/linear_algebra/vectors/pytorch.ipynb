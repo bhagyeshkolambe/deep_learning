{
 "cells": [
  {
   "cell_type": "code",
   "execution_count": 4,
   "id": "1d8e5ffa",
   "metadata": {},
   "outputs": [
    {
     "name": "stdout",
     "output_type": "stream",
     "text": [
      "Addition: tensor([5., 7., 9.])\n",
      "Subtraction: tensor([-3., -3., -3.])\n",
      "Multiplication (Hadamard): tensor([ 4., 10., 18.])\n",
      "Dot Product: tensor(32.)\n",
      "Cross Product: tensor([-3.,  6., -3.])\n",
      "Vector Norm: tensor(3.7417)\n",
      "Normalized Vector: tensor([0.2673, 0.5345, 0.8018])\n",
      "Sum of Elements: tensor(6.)\n",
      "Mean of Elements: tensor(2.)\n"
     ]
    }
   ],
   "source": [
    "import torch\n",
    "\n",
    "# Creating vectors\n",
    "vector1 = torch.tensor([1.0, 2.0, 3.0])\n",
    "vector2 = torch.tensor([4.0, 5.0, 6.0])\n",
    "\n",
    "# Element-wise addition\n",
    "addition_result = vector1 + vector2\n",
    "print(\"Addition:\", addition_result)\n",
    "\n",
    "# Element-wise subtraction\n",
    "subtraction_result = vector1 - vector2\n",
    "print(\"Subtraction:\", subtraction_result)\n",
    "\n",
    "# Element-wise multiplication (Hadamard product)\n",
    "multiplication_result = vector1 * vector2\n",
    "print(\"Multiplication (Hadamard):\", multiplication_result)\n",
    "\n",
    "# Dot product (inner product)\n",
    "dot_product_result = torch.dot(vector1, vector2)\n",
    "print(\"Dot Product:\", dot_product_result)\n",
    "\n",
    "# Cross product\n",
    "cross_product_result = torch.linalg.cross(vector1, vector2)\n",
    "print(\"Cross Product:\", cross_product_result)\n",
    "\n",
    "# Vector norm (L2 norm or Euclidean norm)\n",
    "norm_result = torch.norm(vector1)\n",
    "print(\"Vector Norm:\", norm_result)\n",
    "\n",
    "# Normalize a vector to unit length\n",
    "normalized_vector = vector1 / torch.norm(vector1)\n",
    "print(\"Normalized Vector:\", normalized_vector)\n",
    "\n",
    "# Sum of elements in the vector\n",
    "sum_of_elements = torch.sum(vector1)\n",
    "print(\"Sum of Elements:\", sum_of_elements)\n",
    "\n",
    "# Mean of elements in the vector\n",
    "mean_of_elements = torch.mean(vector1)\n",
    "print(\"Mean of Elements:\", mean_of_elements)"
   ]
  }
 ],
 "metadata": {
  "kernelspec": {
   "display_name": "venv",
   "language": "python",
   "name": "python3"
  },
  "language_info": {
   "codemirror_mode": {
    "name": "ipython",
    "version": 3
   },
   "file_extension": ".py",
   "mimetype": "text/x-python",
   "name": "python",
   "nbconvert_exporter": "python",
   "pygments_lexer": "ipython3",
   "version": "3.12.10"
  }
 },
 "nbformat": 4,
 "nbformat_minor": 5
}
